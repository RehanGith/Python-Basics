{
 "cells": [
  {
   "cell_type": "code",
   "execution_count": 12,
   "id": "114eb254-bc0e-4725-b124-fab0a4b71dbd",
   "metadata": {},
   "outputs": [],
   "source": [
    "squares = [1,4,9,16]"
   ]
  },
  {
   "cell_type": "markdown",
   "id": "9b2a5153-017c-4c41-8805-faca8f7ac310",
   "metadata": {},
   "source": [
    "# About Lists\n",
    "lists are mutable means they can be appended and changes "
   ]
  },
  {
   "cell_type": "code",
   "execution_count": 13,
   "id": "77b1178e-b18d-4e4b-82fd-0b86205fd69f",
   "metadata": {},
   "outputs": [
    {
     "data": {
      "text/plain": [
       "[1, 4, 9, 16]"
      ]
     },
     "execution_count": 13,
     "metadata": {},
     "output_type": "execute_result"
    }
   ],
   "source": [
    "squares"
   ]
  },
  {
   "cell_type": "code",
   "execution_count": 14,
   "id": "092d1689-093d-43bf-b224-b1a9641c89d0",
   "metadata": {},
   "outputs": [],
   "source": [
    "squares.append(25)\n"
   ]
  },
  {
   "cell_type": "code",
   "execution_count": 49,
   "id": "d4d4651a-92de-4c65-98a7-e65f0ec1596a",
   "metadata": {},
   "outputs": [
    {
     "name": "stdout",
     "output_type": "stream",
     "text": [
      "100002229200920\n"
     ]
    }
   ],
   "source": [
    "n = 100002229200920\n",
    "print(n)"
   ]
  },
  {
   "cell_type": "code",
   "execution_count": 15,
   "id": "0d030822-8b56-4b0a-916e-3d15a85a5de2",
   "metadata": {},
   "outputs": [
    {
     "data": {
      "text/plain": [
       "[1, 4, 9, 16, 25]"
      ]
     },
     "execution_count": 15,
     "metadata": {},
     "output_type": "execute_result"
    }
   ],
   "source": [
    "squares"
   ]
  },
  {
   "cell_type": "code",
   "execution_count": 16,
   "id": "cfabb01b-ef76-463f-b994-cb0019ebd7bd",
   "metadata": {},
   "outputs": [
    {
     "name": "stdout",
     "output_type": "stream",
     "text": [
      "[2, 4, 9, 16, 25]\n"
     ]
    }
   ],
   "source": [
    "squares[0]  = 2\n",
    "print(squares)"
   ]
  },
  {
   "cell_type": "code",
   "execution_count": 17,
   "id": "5bb893d2-b8d6-4965-8d5a-74db492dd113",
   "metadata": {},
   "outputs": [
    {
     "name": "stdout",
     "output_type": "stream",
     "text": [
      "2\n",
      "4\n",
      "9\n",
      "16\n",
      "25\n"
     ]
    }
   ],
   "source": [
    "count = 0\n",
    "while len(squares) != count:  \n",
    "    print(squares[count])\n",
    "    count+= 1"
   ]
  },
  {
   "cell_type": "code",
   "execution_count": 18,
   "id": "22d38b33-6e36-42a5-828b-9a3e747786fb",
   "metadata": {},
   "outputs": [],
   "source": [
    "mix = [\"Rehna\", 2,4]"
   ]
  },
  {
   "cell_type": "code",
   "execution_count": 19,
   "id": "324d2c07-8afe-4d91-9aac-894a8ae4b9df",
   "metadata": {},
   "outputs": [
    {
     "data": {
      "text/plain": [
       "['Rehna', 2, 4]"
      ]
     },
     "execution_count": 19,
     "metadata": {},
     "output_type": "execute_result"
    }
   ],
   "source": [
    "mix"
   ]
  },
  {
   "cell_type": "markdown",
   "id": "67ca6d6f-9807-42ff-8708-b4ec2aecab75",
   "metadata": {},
   "source": [
    "# About Tuples\n",
    "Tuples are  immutable, means they can't be appended and changed"
   ]
  },
  {
   "cell_type": "code",
   "execution_count": 20,
   "id": "d7c7ca97-a9bc-4167-a0e5-7a34d5620e2d",
   "metadata": {},
   "outputs": [],
   "source": [
    "ali = 19, \"Software engineer\" , 19"
   ]
  },
  {
   "cell_type": "code",
   "execution_count": 21,
   "id": "9e77d689-9583-461e-9274-36e8d2cd1c8d",
   "metadata": {},
   "outputs": [
    {
     "data": {
      "text/plain": [
       "(19, 'Software engineer', 19)"
      ]
     },
     "execution_count": 21,
     "metadata": {},
     "output_type": "execute_result"
    }
   ],
   "source": [
    "ali"
   ]
  },
  {
   "cell_type": "code",
   "execution_count": 22,
   "id": "20338c2f-64b4-4f11-a17c-86339bf93ea8",
   "metadata": {},
   "outputs": [
    {
     "data": {
      "text/plain": [
       "19"
      ]
     },
     "execution_count": 22,
     "metadata": {},
     "output_type": "execute_result"
    }
   ],
   "source": [
    "ali[0]"
   ]
  },
  {
   "cell_type": "code",
   "execution_count": 23,
   "id": "187d7203-bc95-4af2-9a04-28c40c9893c0",
   "metadata": {},
   "outputs": [],
   "source": [
    "rehan = ali , 'unemployed'"
   ]
  },
  {
   "cell_type": "code",
   "execution_count": 24,
   "id": "f6997479-02f9-4258-b45d-b9b4482e2b86",
   "metadata": {},
   "outputs": [
    {
     "data": {
      "text/plain": [
       "((19, 'Software engineer', 19), 'unemployed')"
      ]
     },
     "execution_count": 24,
     "metadata": {},
     "output_type": "execute_result"
    }
   ],
   "source": [
    "rehan "
   ]
  },
  {
   "cell_type": "markdown",
   "id": "4925f5ad-e8c4-490d-9d40-0740744ef02b",
   "metadata": {},
   "source": [
    "# About set \n",
    "Sets have unique values or emement in it\n",
    "we can perform | , - , & and ^ operations on sets"
   ]
  },
  {
   "cell_type": "code",
   "execution_count": 25,
   "id": "3afd99f1-4859-4132-8053-d665dd06a0a8",
   "metadata": {},
   "outputs": [
    {
     "name": "stdout",
     "output_type": "stream",
     "text": [
      "set()\n"
     ]
    }
   ],
   "source": [
    "C = set()\n",
    "print(C)"
   ]
  },
  {
   "cell_type": "code",
   "execution_count": 26,
   "id": "1699c7fd-aded-4251-af74-12b512e08857",
   "metadata": {},
   "outputs": [],
   "source": [
    "A = {1,2,1,3}\n",
    "B = {3, 4, 5 , 6}"
   ]
  },
  {
   "cell_type": "code",
   "execution_count": 27,
   "id": "2b613f80-4663-4d6f-a3e8-dab836607b37",
   "metadata": {},
   "outputs": [
    {
     "name": "stdout",
     "output_type": "stream",
     "text": [
      "{1, 2, 3}\n",
      "{3, 4, 5, 6}\n"
     ]
    }
   ],
   "source": [
    "print(A)\n",
    "print(B)"
   ]
  },
  {
   "cell_type": "code",
   "execution_count": 28,
   "id": "7b5caf54-c975-4765-a7f8-fbabdf7c0578",
   "metadata": {},
   "outputs": [
    {
     "name": "stdout",
     "output_type": "stream",
     "text": [
      "{1, 2}\n",
      "{1, 2, 3, 4, 5, 6}\n",
      "{3}\n",
      "{1, 2, 4, 5, 6}\n"
     ]
    }
   ],
   "source": [
    "print(A - B)\n",
    "print(A | B)\n",
    "print(A & B)\n",
    "print(A ^ B)"
   ]
  },
  {
   "cell_type": "markdown",
   "id": "6906da92-a328-48d3-87b0-69ddc54fd2c3",
   "metadata": {},
   "source": [
    "# About Dictionary\n",
    "Dict contain {key : value }, we can access value by key and change value by key. Another important features of Dictionary \n",
    "comprehension which is used to create aribitrary key and value expression"
   ]
  },
  {
   "cell_type": "code",
   "execution_count": 29,
   "id": "8e82e78b-4202-4a78-a544-fabe3f82db0c",
   "metadata": {},
   "outputs": [],
   "source": [
    "AboutRehan = { \"age\" : 19, \"address\" : \"Khuiratta\"} "
   ]
  },
  {
   "cell_type": "code",
   "execution_count": 30,
   "id": "403c672b-fde7-494c-923d-2c5b3a7434b0",
   "metadata": {},
   "outputs": [
    {
     "name": "stdout",
     "output_type": "stream",
     "text": [
      "{'age': 19, 'address': 'Khuiratta'}\n"
     ]
    },
    {
     "data": {
      "text/plain": [
       "2"
      ]
     },
     "execution_count": 30,
     "metadata": {},
     "output_type": "execute_result"
    }
   ],
   "source": [
    "print(AboutRehan)\n",
    "len(AboutRehan)"
   ]
  },
  {
   "cell_type": "code",
   "execution_count": 31,
   "id": "555c4a9e-9c7c-46de-80bc-8711103e142c",
   "metadata": {},
   "outputs": [],
   "source": [
    "AboutRehan['age'] = 20\n",
    "AboutRehan['Gender'] = \"Male\""
   ]
  },
  {
   "cell_type": "code",
   "execution_count": 32,
   "id": "45f965d8-2efe-412b-a9a8-7963f0e2a201",
   "metadata": {},
   "outputs": [
    {
     "data": {
      "text/plain": [
       "{'age': 20, 'address': 'Khuiratta', 'Gender': 'Male'}"
      ]
     },
     "execution_count": 32,
     "metadata": {},
     "output_type": "execute_result"
    }
   ],
   "source": [
    "AboutRehan"
   ]
  },
  {
   "cell_type": "code",
   "execution_count": 33,
   "id": "4b57a9bc-38a3-41bb-b385-0d4aaf5ec04c",
   "metadata": {},
   "outputs": [],
   "source": [
    "cubes = {x : x**3 for x in range(1 , 10, 2)}"
   ]
  },
  {
   "cell_type": "code",
   "execution_count": 34,
   "id": "1c4fc127-994b-430d-b112-96c1bc28f79b",
   "metadata": {},
   "outputs": [
    {
     "data": {
      "text/plain": [
       "{1: 1, 3: 27, 5: 125, 7: 343, 9: 729}"
      ]
     },
     "execution_count": 34,
     "metadata": {},
     "output_type": "execute_result"
    }
   ],
   "source": [
    "cubes"
   ]
  },
  {
   "cell_type": "markdown",
   "id": "9b6680b7-e805-44a9-bc5a-d40630cf101c",
   "metadata": {},
   "source": [
    "# About functions\n"
   ]
  },
  {
   "cell_type": "code",
   "execution_count": 35,
   "id": "bac86491-8299-4430-936e-8dfc7b414b8c",
   "metadata": {},
   "outputs": [
    {
     "name": "stdout",
     "output_type": "stream",
     "text": [
      "3\n"
     ]
    }
   ],
   "source": [
    "def add(x, y):\n",
    "    return x + y\n",
    "print(add(1,2))"
   ]
  },
  {
   "cell_type": "code",
   "execution_count": 36,
   "id": "6a1a79d1-ff6b-4f9f-a89b-c296a99ad9cd",
   "metadata": {},
   "outputs": [],
   "source": [
    "def prime_numbers(n):\n",
    "    primes = []\n",
    "    count = 0\n",
    "    for i in range(2, n):\n",
    "        count = 0\n",
    "        for j in range(2, i):\n",
    "            if(i % j == 0):\n",
    "                count = 1\n",
    "                break\n",
    "        if(count == 0):\n",
    "            primes.append(i)\n",
    "    return primes\n",
    "        \n",
    "            \n",
    "            \n",
    "        "
   ]
  },
  {
   "cell_type": "code",
   "execution_count": 37,
   "id": "a22e45c4-22a7-485c-9b50-1e4b12e443c4",
   "metadata": {},
   "outputs": [
    {
     "name": "stdout",
     "output_type": "stream",
     "text": [
      "[2, 3, 5, 7]\n"
     ]
    }
   ],
   "source": [
    "print(prime_numbers(10))"
   ]
  },
  {
   "cell_type": "code",
   "execution_count": 38,
   "id": "d9a09630-7058-4a2f-9f2c-c173f45951a8",
   "metadata": {},
   "outputs": [],
   "source": [
    "a = 0\n",
    "b = 1\n"
   ]
  },
  {
   "cell_type": "code",
   "execution_count": 39,
   "id": "6a8aedc2-4e9d-43f7-8134-e99b071d01ae",
   "metadata": {},
   "outputs": [],
   "source": [
    "def fab(n):\n",
    "    a = 0\n",
    "    b = 1\n",
    "    series = [0, 1]\n",
    "    for i in range(n):\n",
    "        t = a + b\n",
    "        a = b\n",
    "        b = t\n",
    "        series.append(b)\n",
    "    return series\n",
    "        \n",
    "\n",
    "        "
   ]
  },
  {
   "cell_type": "code",
   "execution_count": 40,
   "id": "bbd6999b-8a35-4668-b72d-0f6684729882",
   "metadata": {},
   "outputs": [
    {
     "name": "stdout",
     "output_type": "stream",
     "text": [
      "[0, 1, 1, 2, 3, 5, 8, 13, 21, 34, 55, 89]\n"
     ]
    }
   ],
   "source": [
    "print(fab(10))"
   ]
  },
  {
   "cell_type": "markdown",
   "id": "0bb5dea7-b42c-473a-831a-654f7b377b9e",
   "metadata": {},
   "source": [
    "# About Classes\n",
    "self is used in classes which is as this in c++. it is used in every method and initilizer"
   ]
  },
  {
   "cell_type": "code",
   "execution_count": 41,
   "id": "f05f7687-6f91-4664-aff3-a12039a489ee",
   "metadata": {},
   "outputs": [],
   "source": [
    "class Chicken:\n",
    "    def __init__(self , w = 0 , b = \"\" ):\n",
    "        self.weight = w\n",
    "        self.bread = b\n",
    "    def int(self):\n",
    "        print(f\"This chicken is of bread {self.bread}. and has weight {self.weight}\")"
   ]
  },
  {
   "cell_type": "code",
   "execution_count": 42,
   "id": "f9cfd617-e118-4f04-88bf-ced1cebca813",
   "metadata": {},
   "outputs": [
    {
     "name": "stdout",
     "output_type": "stream",
     "text": [
      "220\n",
      "aseel\n",
      "This chicken is of bread aseel. and has weight 220\n"
     ]
    }
   ],
   "source": [
    "asel = Chicken(220, 'aseel')\n",
    "print(asel.weight)\n",
    "print(asel.bread)\n",
    "asel.int()"
   ]
  },
  {
   "cell_type": "code",
   "execution_count": 43,
   "id": "4273a4d9-3281-49c2-84d5-7197a680a641",
   "metadata": {},
   "outputs": [
    {
     "name": "stdout",
     "output_type": "stream",
     "text": [
      "200\n"
     ]
    }
   ],
   "source": [
    "asel.weight = 200\n",
    "print(asel.weight)\n",
    "    "
   ]
  },
  {
   "cell_type": "code",
   "execution_count": 58,
   "id": "7a38d600-5de3-42b4-9cba-db91cd60599e",
   "metadata": {},
   "outputs": [],
   "source": [
    "class Person:\n",
    "    def __init__(self, n = \"\", addr = \"\" ,phone = 0000000000000000):\n",
    "        self.name = n\n",
    "        self.address = addr\n",
    "        self.phone_number = phone\n",
    "    def introduction(self):\n",
    "        print(f\"Name is: {self.name}, address is {self.address} and phone_number {self.phone_number} \")\n",
    "\n",
    "class Employee(Person):\n",
    "    def __init__(self,  n = \"\", addr = \"\" , phone = 0, id = 0):\n",
    "        Person.__init__(n, addr,phone)\n",
    "        self.Id = id\n",
    "    def introduction(self):\n",
    "        Person.introduction()\n",
    "        print(f\"Id is: {self.Id} \")\n",
    "              "
   ]
  },
  {
   "cell_type": "code",
   "execution_count": 59,
   "id": "4f7d07ae-ef3d-4242-a4df-dde37e8e56f8",
   "metadata": {},
   "outputs": [
    {
     "name": "stdout",
     "output_type": "stream",
     "text": [
      "Name is: Muhammad Rehan, address is Hostel 6, IIUI, H 10 islamabad and phone_number 923161854586 \n"
     ]
    },
    {
     "ename": "AttributeError",
     "evalue": "'str' object has no attribute 'name'",
     "output_type": "error",
     "traceback": [
      "\u001b[1;31m---------------------------------------------------------------------------\u001b[0m",
      "\u001b[1;31mAttributeError\u001b[0m                            Traceback (most recent call last)",
      "Cell \u001b[1;32mIn[59], line 3\u001b[0m\n\u001b[0;32m      1\u001b[0m rehan \u001b[38;5;241m=\u001b[39m Person(\u001b[38;5;124m\"\u001b[39m\u001b[38;5;124mMuhammad Rehan\u001b[39m\u001b[38;5;124m\"\u001b[39m, \u001b[38;5;124m\"\u001b[39m\u001b[38;5;124mHostel 6, IIUI, H 10 islamabad\u001b[39m\u001b[38;5;124m\"\u001b[39m, \u001b[38;5;241m+\u001b[39m\u001b[38;5;241m923161854586\u001b[39m)\n\u001b[0;32m      2\u001b[0m rehan\u001b[38;5;241m.\u001b[39mintroduction()\n\u001b[1;32m----> 3\u001b[0m rehan \u001b[38;5;241m=\u001b[39m Employee(\u001b[38;5;124m\"\u001b[39m\u001b[38;5;124mMuhammad Rehan\u001b[39m\u001b[38;5;124m\"\u001b[39m, \u001b[38;5;124m\"\u001b[39m\u001b[38;5;124mHostel 6, IIUI, H 10 islamabad\u001b[39m\u001b[38;5;124m\"\u001b[39m, \u001b[38;5;241m+\u001b[39m\u001b[38;5;241m923161854586\u001b[39m, \u001b[38;5;241m4404\u001b[39m)\n",
      "Cell \u001b[1;32mIn[58], line 11\u001b[0m, in \u001b[0;36mEmployee.__init__\u001b[1;34m(self, n, addr, phone, id)\u001b[0m\n\u001b[0;32m     10\u001b[0m \u001b[38;5;28;01mdef\u001b[39;00m \u001b[38;5;21m__init__\u001b[39m(\u001b[38;5;28mself\u001b[39m,  n \u001b[38;5;241m=\u001b[39m \u001b[38;5;124m\"\u001b[39m\u001b[38;5;124m\"\u001b[39m, addr \u001b[38;5;241m=\u001b[39m \u001b[38;5;124m\"\u001b[39m\u001b[38;5;124m\"\u001b[39m , phone \u001b[38;5;241m=\u001b[39m \u001b[38;5;241m0\u001b[39m, \u001b[38;5;28mid\u001b[39m \u001b[38;5;241m=\u001b[39m \u001b[38;5;241m0\u001b[39m):\n\u001b[1;32m---> 11\u001b[0m     Person\u001b[38;5;241m.\u001b[39m\u001b[38;5;21m__init__\u001b[39m(n, addr,phone)\n\u001b[0;32m     12\u001b[0m     \u001b[38;5;28mself\u001b[39m\u001b[38;5;241m.\u001b[39mId \u001b[38;5;241m=\u001b[39m \u001b[38;5;28mid\u001b[39m\n",
      "Cell \u001b[1;32mIn[58], line 3\u001b[0m, in \u001b[0;36mPerson.__init__\u001b[1;34m(self, n, addr, phone)\u001b[0m\n\u001b[0;32m      2\u001b[0m \u001b[38;5;28;01mdef\u001b[39;00m \u001b[38;5;21m__init__\u001b[39m(\u001b[38;5;28mself\u001b[39m, n \u001b[38;5;241m=\u001b[39m \u001b[38;5;124m\"\u001b[39m\u001b[38;5;124m\"\u001b[39m, addr \u001b[38;5;241m=\u001b[39m \u001b[38;5;124m\"\u001b[39m\u001b[38;5;124m\"\u001b[39m ,phone \u001b[38;5;241m=\u001b[39m \u001b[38;5;241m0000000000000000\u001b[39m):\n\u001b[1;32m----> 3\u001b[0m     \u001b[38;5;28mself\u001b[39m\u001b[38;5;241m.\u001b[39mname \u001b[38;5;241m=\u001b[39m n\n\u001b[0;32m      4\u001b[0m     \u001b[38;5;28mself\u001b[39m\u001b[38;5;241m.\u001b[39maddress \u001b[38;5;241m=\u001b[39m addr\n\u001b[0;32m      5\u001b[0m     \u001b[38;5;28mself\u001b[39m\u001b[38;5;241m.\u001b[39mphone_number \u001b[38;5;241m=\u001b[39m phone\n",
      "\u001b[1;31mAttributeError\u001b[0m: 'str' object has no attribute 'name'"
     ]
    }
   ],
   "source": [
    "rehan = Person(\"Muhammad Rehan\", \"Hostel 6, IIUI, H 10 islamabad\", +923161854586)\n",
    "rehan.introduction()\n",
    "rehan = Employee(\"Muhammad Rehan\", \"Hostel 6, IIUI, H 10 islamabad\", +923161854586, 4404)"
   ]
  },
  {
   "cell_type": "code",
   "execution_count": null,
   "id": "d31f22cd-2571-43ac-a2b9-873b48f9228d",
   "metadata": {},
   "outputs": [],
   "source": []
  },
  {
   "cell_type": "code",
   "execution_count": null,
   "id": "742069d9-73e9-4e2f-b02c-0ae24f6b7a84",
   "metadata": {},
   "outputs": [],
   "source": []
  }
 ],
 "metadata": {
  "kernelspec": {
   "display_name": "Python 3 (ipykernel)",
   "language": "python",
   "name": "python3"
  },
  "language_info": {
   "codemirror_mode": {
    "name": "ipython",
    "version": 3
   },
   "file_extension": ".py",
   "mimetype": "text/x-python",
   "name": "python",
   "nbconvert_exporter": "python",
   "pygments_lexer": "ipython3",
   "version": "3.12.4"
  }
 },
 "nbformat": 4,
 "nbformat_minor": 5
}
